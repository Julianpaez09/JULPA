{
 "cells": [
  {
   "cell_type": "markdown",
   "id": "98af4470",
   "metadata": {},
   "source": [
    "# Data Sience Tools and Ecosystem\n",
    "### En este cuaderno se resumen las herramientas y los ecosistemas de la ciencia de datos"
   ]
  },
  {
   "cell_type": "markdown",
   "id": "ef784723",
   "metadata": {},
   "source": [
    "**Objectives:**\n",
    "<ul>\n",
    "<li> Lenguajes de programacion </li>\n",
    "<li> Bicliotecas para ciencia de datos </li>\n",
    "<li> Herramientas para ciencia de datos </li>\n",
    "<li> Ejemplo </li>\n",
    "</ul>\n"
   ]
  },
  {
   "cell_type": "markdown",
   "id": "f956745c",
   "metadata": {},
   "source": [
    "Algunos de los lenguajes populares que utilizan los científicos de datos son:\n",
    "\n",
    "1.Python  2.R  3.C++"
   ]
  },
  {
   "cell_type": "markdown",
   "id": "871dc6b5",
   "metadata": {},
   "source": [
    "Algunas de las bibliotecas comúnmente utilizadas por los científicos de datos incluyen:\n",
    "\n",
    "1.Numpy 2.Pandas 3.Pytorch 4.Seaborn 5.Matplotlib\n",
    "    "
   ]
  },
  {
   "cell_type": "markdown",
   "id": "d9f11cec",
   "metadata": {},
   "source": [
    "Herramientas para Ciencia de Datos:\n",
    "\n",
    "1.Rstudio\n",
    "\n",
    "2.jupyter\n",
    "\n",
    "3.GitHub"
   ]
  },
  {
   "cell_type": "markdown",
   "id": "3bb46c3d",
   "metadata": {},
   "source": [
    "<h3>A continuación se muestran algunos ejemplos de evaluación de expresiones aritméticas en Python.</h3>"
   ]
  },
  {
   "cell_type": "markdown",
   "id": "eb10cc7d",
   "metadata": {},
   "source": [
    "Esta es una expresión aritmética simple para multiplicar y luego sumar números enteros."
   ]
  },
  {
   "cell_type": "code",
   "execution_count": 6,
   "id": "0c2dbbd6",
   "metadata": {},
   "outputs": [
    {
     "data": {
      "text/plain": [
       "17"
      ]
     },
     "execution_count": 6,
     "metadata": {},
     "output_type": "execute_result"
    }
   ],
   "source": [
    "(3*4)+5"
   ]
  },
  {
   "cell_type": "markdown",
   "id": "fc443d58",
   "metadata": {},
   "source": [
    "This will convert 200 minutes to hours by diving by 60"
   ]
  },
  {
   "cell_type": "code",
   "execution_count": 7,
   "id": "95bab7f8",
   "metadata": {},
   "outputs": [
    {
     "data": {
      "text/plain": [
       "3.3333333333333335"
      ]
     },
     "execution_count": 7,
     "metadata": {},
     "output_type": "execute_result"
    }
   ],
   "source": [
    "200/60"
   ]
  },
  {
   "cell_type": "markdown",
   "id": "be835b52",
   "metadata": {},
   "source": [
    "<h2>Autor<h2>\n",
    "  <h4>Andres Julian Paez Gomez<h4>"
   ]
  },
  {
   "cell_type": "code",
   "execution_count": null,
   "id": "c5de3f19",
   "metadata": {},
   "outputs": [],
   "source": []
  }
 ],
 "metadata": {
  "kernelspec": {
   "display_name": "Python 3 (ipykernel)",
   "language": "python",
   "name": "python3"
  },
  "language_info": {
   "codemirror_mode": {
    "name": "ipython",
    "version": 3
   },
   "file_extension": ".py",
   "mimetype": "text/x-python",
   "name": "python",
   "nbconvert_exporter": "python",
   "pygments_lexer": "ipython3",
   "version": "3.11.5"
  }
 },
 "nbformat": 4,
 "nbformat_minor": 5
}
